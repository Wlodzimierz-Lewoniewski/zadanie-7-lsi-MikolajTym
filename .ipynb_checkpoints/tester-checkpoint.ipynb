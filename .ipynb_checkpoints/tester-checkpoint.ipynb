{
 "cells": [
  {
   "cell_type": "code",
   "execution_count": 12,
   "id": "0a3b21c7-1cec-4b24-b4e0-c7876b1c09c6",
   "metadata": {
    "execution": {
     "iopub.execute_input": "2024-11-25T15:59:46.430434Z",
     "iopub.status.busy": "2024-11-25T15:59:46.430434Z",
     "iopub.status.idle": "2024-11-25T15:59:46.438742Z",
     "shell.execute_reply": "2024-11-25T15:59:46.438383Z",
     "shell.execute_reply.started": "2024-11-25T15:59:46.430434Z"
    }
   },
   "outputs": [],
   "source": [
    "import re\n",
    "import pandas as pd\n",
    "import numpy as np"
   ]
  },
  {
   "cell_type": "code",
   "execution_count": null,
   "id": "5f38249c-3968-41ae-8bf8-dd53f3719f3e",
   "metadata": {},
   "outputs": [],
   "source": [
    "def get_data():\n",
    "    doc_num = input().strip()\n",
    "    docs = []\n",
    "    for i in range(doc_num+2):\n",
    "        doc = input().strip()\n",
    "        docs.append(doc)\n",
    "    return docs\n",
    "\n",
    "docs = get_data()"
   ]
  },
  {
   "cell_type": "code",
   "execution_count": 2,
   "id": "98e0c844-fd3f-4bde-b928-977ce267e720",
   "metadata": {
    "execution": {
     "iopub.execute_input": "2024-11-25T15:56:00.102875Z",
     "iopub.status.busy": "2024-11-25T15:56:00.102875Z",
     "iopub.status.idle": "2024-11-25T15:56:00.114045Z",
     "shell.execute_reply": "2024-11-25T15:56:00.114045Z",
     "shell.execute_reply.started": "2024-11-25T15:56:00.102875Z"
    }
   },
   "outputs": [],
   "source": [
    "docs = [\n",
    "    \"Shipment of gold damaged in a fire.\",\n",
    "    \"Delivery of silver arrived in a silver truck.\",\n",
    "    \"Shipment of gold arrived in a truck.\",\n",
    "    \"gold silver truck\",\n",
    "    \"2\"\n",
    "]"
   ]
  },
  {
   "cell_type": "code",
   "execution_count": 3,
   "id": "8ad20e31-5b43-4d30-b1b1-dd972713586b",
   "metadata": {
    "execution": {
     "iopub.execute_input": "2024-11-25T15:56:03.133420Z",
     "iopub.status.busy": "2024-11-25T15:56:03.133420Z",
     "iopub.status.idle": "2024-11-25T15:56:03.138980Z",
     "shell.execute_reply": "2024-11-25T15:56:03.137973Z",
     "shell.execute_reply.started": "2024-11-25T15:56:03.133420Z"
    }
   },
   "outputs": [],
   "source": [
    "all_docs = docs[:-1]\n",
    "k = int(docs[-1])\n",
    "all_docs = [re.sub(r\"[^\\w\\s]\", \"\", doc.lower()).split() for doc in all_docs]"
   ]
  },
  {
   "cell_type": "code",
   "execution_count": 5,
   "id": "553fd318-aa65-468a-b75a-f1e3d6a45444",
   "metadata": {
    "execution": {
     "iopub.execute_input": "2024-11-25T15:57:10.094861Z",
     "iopub.status.busy": "2024-11-25T15:57:10.094861Z",
     "iopub.status.idle": "2024-11-25T15:57:10.098379Z",
     "shell.execute_reply": "2024-11-25T15:57:10.098379Z",
     "shell.execute_reply.started": "2024-11-25T15:57:10.094861Z"
    }
   },
   "outputs": [],
   "source": [
    "uniq_terms = set()\n",
    "for doc in all_docs:\n",
    "    for term in doc:\n",
    "        uniq_terms.add(term)"
   ]
  },
  {
   "cell_type": "code",
   "execution_count": 23,
   "id": "0db28dd6-b286-4a00-a409-14dcc6f83918",
   "metadata": {
    "execution": {
     "iopub.execute_input": "2024-11-25T16:01:33.101800Z",
     "iopub.status.busy": "2024-11-25T16:01:33.100368Z",
     "iopub.status.idle": "2024-11-25T16:01:33.104729Z",
     "shell.execute_reply": "2024-11-25T16:01:33.104729Z",
     "shell.execute_reply.started": "2024-11-25T16:01:33.101800Z"
    }
   },
   "outputs": [],
   "source": [
    "rows = []\n",
    "for term in uniq_terms:\n",
    "    result = {}\n",
    "    for doc_index, doc in enumerate(all_docs):\n",
    "        result[f\"doc_{doc_index}\"] = 1 if term in doc else 0\n",
    "    rows.append(result)"
   ]
  },
  {
   "cell_type": "code",
   "execution_count": 162,
   "id": "2bfef2ef-25cd-4376-9f8d-5e95b391a783",
   "metadata": {
    "execution": {
     "iopub.execute_input": "2024-11-25T16:28:43.567470Z",
     "iopub.status.busy": "2024-11-25T16:28:43.562536Z",
     "iopub.status.idle": "2024-11-25T16:28:43.571415Z",
     "shell.execute_reply": "2024-11-25T16:28:43.571415Z",
     "shell.execute_reply.started": "2024-11-25T16:28:43.567470Z"
    }
   },
   "outputs": [],
   "source": [
    "C = pd.DataFrame(rows).to_numpy()"
   ]
  },
  {
   "cell_type": "code",
   "execution_count": 171,
   "id": "a1b3cdd8-47ed-4ef2-80b7-c8115ebca10a",
   "metadata": {
    "execution": {
     "iopub.execute_input": "2024-11-25T16:29:43.556779Z",
     "iopub.status.busy": "2024-11-25T16:29:43.556779Z",
     "iopub.status.idle": "2024-11-25T16:29:43.566054Z",
     "shell.execute_reply": "2024-11-25T16:29:43.565044Z",
     "shell.execute_reply.started": "2024-11-25T16:29:43.556779Z"
    }
   },
   "outputs": [],
   "source": [
    "U, Sigma, VT = np.linalg.svd(C[...,:-1].T, full_matrices=False)"
   ]
  },
  {
   "cell_type": "code",
   "execution_count": 174,
   "id": "0125307a-ddc4-4600-9fae-e1a5ddd8ca57",
   "metadata": {
    "execution": {
     "iopub.execute_input": "2024-11-25T16:30:20.440721Z",
     "iopub.status.busy": "2024-11-25T16:30:20.440721Z",
     "iopub.status.idle": "2024-11-25T16:30:20.445856Z",
     "shell.execute_reply": "2024-11-25T16:30:20.445675Z",
     "shell.execute_reply.started": "2024-11-25T16:30:20.440721Z"
    }
   },
   "outputs": [],
   "source": [
    "k = 2\n",
    "U_k = U[:, :k]\n",
    "Sigma_k = np.diag(Sigma[:k])\n",
    "VT_k = VT[:k, :]\n",
    "query = C[..., -1] @ VT_k.T @ np.linalg.inv(Sigma_k)\n",
    "docs_reduced = U_k @ Sigma_k"
   ]
  },
  {
   "cell_type": "code",
   "execution_count": 179,
   "id": "5372738a-cb13-43ab-b3f6-52bab75708f4",
   "metadata": {
    "execution": {
     "iopub.execute_input": "2024-11-25T16:31:31.357948Z",
     "iopub.status.busy": "2024-11-25T16:31:31.357948Z",
     "iopub.status.idle": "2024-11-25T16:31:31.362533Z",
     "shell.execute_reply": "2024-11-25T16:31:31.361842Z",
     "shell.execute_reply.started": "2024-11-25T16:31:31.357948Z"
    }
   },
   "outputs": [
    {
     "name": "stdout",
     "output_type": "stream",
     "text": [
      "[0.23, 0.98, 0.72]\n"
     ]
    }
   ],
   "source": [
    "print([round(np.dot(query, doc_reduced) / (np.linalg.norm(query) * np.linalg.norm(doc_reduced)), 2) for doc_reduced in docs_reduced])"
   ]
  }
 ],
 "metadata": {
  "kernelspec": {
   "display_name": "general_venv",
   "language": "python",
   "name": "general_venv"
  },
  "language_info": {
   "codemirror_mode": {
    "name": "ipython",
    "version": 3
   },
   "file_extension": ".py",
   "mimetype": "text/x-python",
   "name": "python",
   "nbconvert_exporter": "python",
   "pygments_lexer": "ipython3",
   "version": "3.12.6"
  }
 },
 "nbformat": 4,
 "nbformat_minor": 5
}
